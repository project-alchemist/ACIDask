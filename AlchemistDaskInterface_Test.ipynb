{
 "cells": [
  {
   "cell_type": "markdown",
   "metadata": {},
   "source": [
    "Import alchemist, numpy and dask"
   ]
  },
  {
   "cell_type": "code",
   "execution_count": 1,
   "metadata": {},
   "outputs": [],
   "source": [
    "from alchemist import *\n",
    "import numpy as np\n",
    "import dask.array as da\n"
   ]
  },
  {
   "cell_type": "markdown",
   "metadata": {},
   "source": [
    "Create an alchemist session, Connect to alchemist and request for workers"
   ]
  },
  {
   "cell_type": "code",
   "execution_count": 6,
   "metadata": {},
   "outputs": [
    {
     "name": "stdout",
     "output_type": "stream",
     "text": [
      "Starting Alchemist session ... ready\n",
      "Connecting to Alchemist at 0.0.0.0:24960 ...Connected to Alchemist!\n"
     ]
    }
   ],
   "source": [
    "als = AlchemistSession()\n",
    "als.connect_to_alchemist(\"0.0.0.0\", 24960)\n",
    "\n"
   ]
  },
  {
   "cell_type": "code",
   "execution_count": 7,
   "metadata": {},
   "outputs": [
    {
     "name": "stdout",
     "output_type": "stream",
     "text": [
      "Requesting 3 workers from Alchemist\n",
      "Total allocated 3 workers:\n",
      "    Worker-1 on C02V25U2HTD6 at 0.0.0.0:24961\n",
      "    Worker-2 on C02V25U2HTD6 at 0.0.0.0:24962\n",
      "    Worker-3 on C02V25U2HTD6 at 0.0.0.0:24963\n",
      "Connecting to Alchemist at 0.0.0.0:24961 ...Connected to Alchemist!\n",
      "Connecting to Alchemist at 0.0.0.0:24962 ...Connected to Alchemist!\n",
      "Connecting to Alchemist at 0.0.0.0:24963 ...Connected to Alchemist!\n"
     ]
    }
   ],
   "source": [
    "als.request_workers(3)\n"
   ]
  },
  {
   "cell_type": "code",
   "execution_count": 8,
   "metadata": {},
   "outputs": [
    {
     "name": "stdout",
     "output_type": "stream",
     "text": [
      "Listing 3 Alchemist workers:\n",
      "    Worker-1 on C02V25U2HTD6 at 0.0.0.0:24961\n",
      "    Worker-2 on C02V25U2HTD6 at 0.0.0.0:24962\n",
      "    Worker-3 on C02V25U2HTD6 at 0.0.0.0:24963\n"
     ]
    }
   ],
   "source": [
    "als.list_all_workers()\n"
   ]
  },
  {
   "cell_type": "code",
   "execution_count": 9,
   "metadata": {},
   "outputs": [
    {
     "name": "stdout",
     "output_type": "stream",
     "text": [
      "Listing 3 active Alchemist workers:\n",
      "    Worker-1 on C02V25U2HTD6 at 0.0.0.0:24961\n",
      "    Worker-2 on C02V25U2HTD6 at 0.0.0.0:24962\n",
      "    Worker-3 on C02V25U2HTD6 at 0.0.0.0:24963\n",
      "No inactive Alchemist workers\n",
      "Listing 3 assigned Alchemist workers:\n",
      "    Worker-1 on C02V25U2HTD6 at 0.0.0.0:24961\n",
      "    Worker-2 on C02V25U2HTD6 at 0.0.0.0:24962\n",
      "    Worker-3 on C02V25U2HTD6 at 0.0.0.0:24963\n"
     ]
    }
   ],
   "source": [
    "als.list_active_workers()\n",
    "als.list_inactive_workers()\n",
    "als.list_assigned_workers()\n"
   ]
  },
  {
   "cell_type": "code",
   "execution_count": 10,
   "metadata": {},
   "outputs": [
    {
     "name": "stdout",
     "output_type": "stream",
     "text": [
      "Library 'TestLib' at /Users/payyalasom/Documents/HAL-priya/TestLib/target/testlib.dylib successfully loaded.\n"
     ]
    }
   ],
   "source": [
    "lib_name = \"TestLib\"\n",
    "lib_path = \"/Users/payyalasom/Documents/HAL-priya/TestLib/target/testlib.dylib\"\n",
    "TestLib = als.load_library(lib_name,lib_path)\n"
   ]
  },
  {
   "cell_type": "code",
   "execution_count": 11,
   "metadata": {},
   "outputs": [],
   "source": [
    "input_matrix = [[1,2,3,4,5,6,7,8,9,10],\n",
    "        [2,22,13,24,15,36,17,28,19,38],\n",
    "        [3,22,13,24,15,36,17,28,19,38],\n",
    "        [4,22,13,24,15,36,17,28,19,38],\n",
    "        [5,22,13,24,15,36,17,28,19,38],\n",
    "        [6,22,13,24,15,36,17,28,19,38],\n",
    "        [7,22,13,24,15,36,17,28,19,38],\n",
    "        [8,22,13,24,15,36,17,28,19,38],\n",
    "        [9,22,13,24,15,36,17,28,19,38],\n",
    "        [10,22,13,24,15,36,17,28,19,38]]"
   ]
  },
  {
   "cell_type": "code",
   "execution_count": 12,
   "metadata": {},
   "outputs": [],
   "source": [
    "size_of_row_chunks = 5\n",
    "size_of_col_chunks = 5\n"
   ]
  },
  {
   "cell_type": "code",
   "execution_count": 13,
   "metadata": {},
   "outputs": [],
   "source": [
    "dask_matrix = da.from_array(input_matrix,chunks=(size_of_row_chunks,size_of_col_chunks,))\n"
   ]
  },
  {
   "cell_type": "code",
   "execution_count": 14,
   "metadata": {},
   "outputs": [
    {
     "name": "stdout",
     "output_type": "stream",
     "text": [
      "Size of row chunks: 5\n",
      "Size of col chunks: 5\n",
      "Size of chunks: 25\n",
      "Size of input matrix: 100\n",
      "Number of total chunks: 4\n",
      "Row size: 10\n",
      "Column size: 10\n",
      "Number of row chunks: 2\n",
      "Number of column chunks: Ending Alchemist session\n",
      "Closing socket\n",
      "Closing driver client\n",
      "Closing socket\n",
      "2\n",
      "slice_row_id 0\n",
      "slice_col_id 0\n",
      "\n",
      "printing the layer: (<built-in function getitem>, 'array-original-d45d093fdb1778c7ee20e6f0e319feb5', (slice(0, 5, None), slice(0, 5, None)))\n",
      "\n",
      "printing the required array:\n",
      "[[ 1  2  3  4  5]\n",
      " [ 2 22 13 24 15]\n",
      " [ 3 22 13 24 15]\n",
      " [ 4 22 13 24 15]\n",
      " [ 5 22 13 24 15]]\n",
      "\n",
      "start row index 0\n",
      "start column index 0\n",
      "end row index 5\n",
      "end col index 5\n",
      "slice_row_id 0\n",
      "slice_col_id 1\n",
      "\n",
      "printing the layer: (<built-in function getitem>, 'array-original-d45d093fdb1778c7ee20e6f0e319feb5', (slice(0, 5, None), slice(5, 10, None)))\n",
      "\n",
      "printing the required array:\n",
      "[[ 6  7  8  9 10]\n",
      " [36 17 28 19 38]\n",
      " [36 17 28 19 38]\n",
      " [36 17 28 19 38]\n",
      " [36 17 28 19 38]]\n",
      "\n",
      "start row index 0\n",
      "start column index 5\n",
      "end row index 5\n",
      "end col index 10\n",
      "slice_row_id 1\n",
      "slice_col_id 0\n",
      "\n",
      "printing the layer: (<built-in function getitem>, 'array-original-d45d093fdb1778c7ee20e6f0e319feb5', (slice(5, 10, None), slice(0, 5, None)))\n",
      "\n",
      "printing the required array:\n",
      "[[ 6 22 13 24 15]\n",
      " [ 7 22 13 24 15]\n",
      " [ 8 22 13 24 15]\n",
      " [ 9 22 13 24 15]\n",
      " [10 22 13 24 15]]\n",
      "\n",
      "start row index 5\n",
      "start column index 0\n",
      "end row index 10\n",
      "end col index 5\n",
      "slice_row_id 1\n",
      "slice_col_id 1\n",
      "\n",
      "printing the layer: (<built-in function getitem>, 'array-original-d45d093fdb1778c7ee20e6f0e319feb5', (slice(5, 10, None), slice(5, 10, None)))\n",
      "\n",
      "printing the required array:\n",
      "[[36 17 28 19 38]\n",
      " [36 17 28 19 38]\n",
      " [36 17 28 19 38]\n",
      " [36 17 28 19 38]\n",
      " [36 17 28 19 38]]\n",
      "\n",
      "start row index 5\n",
      "start column index 5\n",
      "end row index 10\n",
      "end col index 10\n"
     ]
    }
   ],
   "source": [
    "als.send_dask_matrix(matrix=dask_matrix, print_times=True, layout=\"VC_STAR\")\n"
   ]
  },
  {
   "cell_type": "code",
   "execution_count": null,
   "metadata": {},
   "outputs": [],
   "source": []
  }
 ],
 "metadata": {
  "kernelspec": {
   "display_name": "Python 3",
   "language": "python",
   "name": "python3"
  },
  "language_info": {
   "codemirror_mode": {
    "name": "ipython",
    "version": 3
   },
   "file_extension": ".py",
   "mimetype": "text/x-python",
   "name": "python",
   "nbconvert_exporter": "python",
   "pygments_lexer": "ipython3",
   "version": "3.7.1"
  }
 },
 "nbformat": 4,
 "nbformat_minor": 2
}
